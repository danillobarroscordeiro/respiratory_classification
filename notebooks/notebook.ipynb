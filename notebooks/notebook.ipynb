{
 "cells": [],
 "metadata": {
  "kernelspec": {
   "display_name": "respiratory_classification",
   "language": "python",
   "name": "python3"
  },
  "language_info": {
   "name": "python",
   "version": "3.10.10"
  },
  "orig_nbformat": 4
 },
 "nbformat": 4,
 "nbformat_minor": 2
}
